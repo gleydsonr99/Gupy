{
  "nbformat": 4,
  "nbformat_minor": 0,
  "metadata": {
    "colab": {
      "provenance": [],
      "authorship_tag": "ABX9TyM1O53LGgDRkLV855vEa1T1",
      "include_colab_link": true
    },
    "kernelspec": {
      "name": "python3",
      "display_name": "Python 3"
    },
    "language_info": {
      "name": "python"
    }
  },
  "cells": [
    {
      "cell_type": "markdown",
      "metadata": {
        "id": "view-in-github",
        "colab_type": "text"
      },
      "source": [
        "<a href=\"https://colab.research.google.com/github/gleydsonr99/Gupy/blob/main/Gupy.ipynb\" target=\"_parent\"><img src=\"https://colab.research.google.com/assets/colab-badge.svg\" alt=\"Open In Colab\"/></a>"
      ]
    },
    {
      "cell_type": "markdown",
      "source": [],
      "metadata": {
        "id": "6CMy8Eh_jDkJ"
      }
    },
    {
      "cell_type": "markdown",
      "source": [
        "1) Observe o trecho de código abaixo: int INDICE = 13, SOMA = 0, K = 0;\n",
        "Enquanto K < INDICE faça { K = K + 1; SOMA = SOMA + K; }\n",
        "Imprimir(SOMA);\n",
        "Ao final do processamento, qual será o valor da variável SOMA?\n"
      ],
      "metadata": {
        "id": "i8qctaFOhOfa"
      }
    },
    {
      "cell_type": "code",
      "source": [
        "\n",
        " while K < INDICE:\n",
        "  K+=1\n",
        "  SOMA+=K\n",
        "  print(SOMA)"
      ],
      "metadata": {
        "colab": {
          "base_uri": "https://localhost:8080/"
        },
        "id": "f13-NXvhfMZE",
        "outputId": "387e23fb-fe08-4772-842e-28b83d9762c4"
      },
      "execution_count": null,
      "outputs": [
        {
          "output_type": "stream",
          "name": "stdout",
          "text": [
            "1\n",
            "3\n",
            "6\n",
            "10\n",
            "15\n",
            "21\n",
            "28\n",
            "36\n",
            "45\n",
            "55\n",
            "66\n",
            "78\n",
            "91\n"
          ]
        }
      ]
    },
    {
      "cell_type": "markdown",
      "source": [
        "\n",
        "2) Dado a sequência de Fibonacci, onde se inicia por 0 e 1 e o próximo valor sempre será a soma dos 2 valores anteriores (exemplo: 0, 1, 1, 2, 3, 5, 8, 13, 21, 34...), escreva um programa na linguagem que desejar onde, informado um número, ele calcule a sequência de Fibonacci e retorne uma mensagem avisando se o número informado pertence ou não a sequência.\n",
        "\n",
        "IMPORTANTE: Esse número pode ser informado através de qualquer entrada de sua preferência ou pode ser previamente definido no código;\n",
        "\n"
      ],
      "metadata": {
        "id": "h_IBK-HAhUE8"
      }
    },
    {
      "cell_type": "code",
      "source": [
        "def is_fibonacci(n):\n",
        "    if n < 0:\n",
        "        return False\n",
        "\n",
        "    # Função auxiliar para verificar se um número é um número de Fibonacci\n",
        "    def is_perfect_square(x):\n",
        "        s = int(x**0.5)\n",
        "        return s * s == x\n",
        "\n",
        "    # Verifica se 5*n^2 + 4 ou 5*n^2 - 4 são quadrados perfeitos\n",
        "    return is_perfect_square(5*n*n + 4) or is_perfect_square(5*n*n - 4)\n",
        "\n",
        "# Entrada do usuário\n",
        "num = int(input(\"Digite um número para verificar se é parte da sequência de Fibonacci: \"))\n",
        "\n",
        "if is_fibonacci(num):\n",
        "    print(f\"{num} pertence à sequência de Fibonacci.\")\n",
        "else:\n",
        "    print(f\"{num} não pertence à sequência de Fibonacci.\")"
      ],
      "metadata": {
        "colab": {
          "base_uri": "https://localhost:8080/"
        },
        "id": "AuCEI49ogxHQ",
        "outputId": "a7e24049-0bf4-487c-d44d-f30a18765148"
      },
      "execution_count": null,
      "outputs": [
        {
          "output_type": "stream",
          "name": "stdout",
          "text": [
            "Digite um número para verificar se é parte da sequência de Fibonacci: 1\n",
            "1 pertence à sequência de Fibonacci.\n"
          ]
        }
      ]
    },
    {
      "cell_type": "markdown",
      "source": [
        "3) Dado um vetor que guarda o valor de faturamento diário de uma distribuidora, faça um programa, na linguagem que desejar, que calcule e retorne:\n",
        "• O menor valor de faturamento ocorrido em um dia do mês;\n",
        "• O maior valor de faturamento ocorrido em um dia do mês;\n",
        "• Número de dias no mês em que o valor de faturamento diário foi superior à média mensal.\n",
        "\n",
        "IMPORTANTE:\n",
        "a) Usar o json ou xml disponível como fonte dos dados do faturamento mensal;\n",
        "b) Podem existir dias sem faturamento, como nos finais de semana e feriados. Estes dias devem ser ignorados no cálculo da média;\n",
        "\n"
      ],
      "metadata": {
        "id": "hjjC0TLZhX6V"
      }
    },
    {
      "cell_type": "code",
      "source": [
        "import json\n",
        "\n",
        "# Exemplo de dados em JSON\n",
        "json_data = '''\n",
        "{\n",
        "    \"faturamento_diario\": [500.25, 0, 0, 450.75, 300.60, 0, 0, 600.00, 550.10, 0, 0, 700.00, 650.30, 0, 0, 800.00, 750.25, 0, 0, 850.00, 900.50, 0, 0, 1000.00, 950.75, 0, 0, 1100.00, 1050.50, 0, 0, 1200.00, 1150.75, 0, 0, 1300.00, 1250.00, 0, 0, 1400.00, 1350.25, 0, 0, 1500.00, 1450.50]\n",
        "}\n",
        "'''\n",
        "\n",
        "data = json.loads(json_data)\n",
        "faturamento_diario = data['faturamento_diario']\n",
        "\n",
        "# Calculando o menor e maior valor de faturamento\n",
        "menor_faturamento = min(faturamento_diario)\n",
        "maior_faturamento = max(faturamento_diario)\n",
        "\n",
        "# Calculando a média mensal ignorando dias sem faturamento\n",
        "dias_com_faturamento = [valor for valor in faturamento_diario if valor > 0]\n",
        "media_mensal = sum(dias_com_faturamento) / len(dias_com_faturamento)\n",
        "\n",
        "# Calculando o número de dias com faturamento superior à média\n",
        "dias_acima_media = sum(1 for valor in faturamento_diario if valor > media_mensal)\n",
        "\n",
        "print(f\"Menor valor de faturamento: R${menor_faturamento:.2f}\")\n",
        "print(f\"Maior valor de faturamento: R${maior_faturamento:.2f}\")\n",
        "print(f\"Número de dias com faturamento acima da média mensal: {dias_acima_media}\")\n"
      ],
      "metadata": {
        "colab": {
          "base_uri": "https://localhost:8080/"
        },
        "id": "O8HqBV-vg-8U",
        "outputId": "5ea8b1bf-e2fe-4f4a-a50b-70bf3b1489d6"
      },
      "execution_count": null,
      "outputs": [
        {
          "output_type": "stream",
          "name": "stdout",
          "text": [
            "Menor valor de faturamento: R$0.00\n",
            "Maior valor de faturamento: R$1500.00\n",
            "Número de dias com faturamento acima da média mensal: 12\n"
          ]
        }
      ]
    },
    {
      "cell_type": "markdown",
      "source": [
        "4) Dado o valor de faturamento mensal de uma distribuidora, detalhado por estado:\n",
        "• SP – R$67.836,43\n",
        "• RJ – R$36.678,66\n",
        "• MG – R$29.229,88\n",
        "• ES – R$27.165,48\n",
        "• Outros – R$19.849,53\n",
        "\n",
        "Escreva um programa na linguagem que desejar onde calcule o percentual de representação que cada estado teve dentro do valor total mensal da distribuidora.\n",
        "\n"
      ],
      "metadata": {
        "id": "g0-GGmFRhcW9"
      }
    },
    {
      "cell_type": "code",
      "source": [
        "# Faturamento por estado\n",
        "faturamento_estado = {\n",
        "    'SP': 67836.43,\n",
        "    'RJ': 36678.66,\n",
        "    'MG': 29229.88,\n",
        "    'ES': 27165.48,\n",
        "    'Outros': 19849.53\n",
        "}\n",
        "\n",
        "# Calculando o valor total\n",
        "total_faturamento = sum(faturamento_estado.values())\n",
        "\n",
        "# Calculando e exibindo o percentual de representação\n",
        "for estado, faturamento in faturamento_estado.items():\n",
        "    percentual = (faturamento / total_faturamento) * 100\n",
        "    print(f\"Percentual de representação de {estado}: {percentual:.2f}%\")\n"
      ],
      "metadata": {
        "colab": {
          "base_uri": "https://localhost:8080/"
        },
        "id": "xIUZJ-w0hFPn",
        "outputId": "80e24b39-b682-4c25-e501-c4eb723738fd"
      },
      "execution_count": null,
      "outputs": [
        {
          "output_type": "stream",
          "name": "stdout",
          "text": [
            "Percentual de representação de SP: 37.53%\n",
            "Percentual de representação de RJ: 20.29%\n",
            "Percentual de representação de MG: 16.17%\n",
            "Percentual de representação de ES: 15.03%\n",
            "Percentual de representação de Outros: 10.98%\n"
          ]
        }
      ]
    },
    {
      "cell_type": "markdown",
      "source": [
        "5) Escreva um programa que inverta os caracteres de um string.\n",
        "\n",
        "IMPORTANTE:\n",
        "a) Essa string pode ser informada através de qualquer entrada de sua preferência ou pode ser previamente definida no código;\n",
        "b) Evite usar funções prontas, como, por exemplo, reverse;"
      ],
      "metadata": {
        "id": "BKrHTS78hgRJ"
      }
    },
    {
      "cell_type": "code",
      "source": [
        "def inverter_string(s):\n",
        "    inversa = \"\"\n",
        "    for char in s:\n",
        "        inversa = char + inversa\n",
        "    return inversa\n",
        "\n",
        "# Entrada do usuário\n",
        "string = input(\"Digite uma string para inverter: \")\n",
        "string_invertida = inverter_string(string)\n",
        "\n",
        "print(f\"String invertida: {string_invertida}\")\n"
      ],
      "metadata": {
        "colab": {
          "base_uri": "https://localhost:8080/"
        },
        "id": "MQ19CJVlhwPp",
        "outputId": "62769d07-e541-4541-e1dd-a2365deb64c8"
      },
      "execution_count": null,
      "outputs": [
        {
          "output_type": "stream",
          "name": "stdout",
          "text": [
            "Digite uma string para inverter: casa\n",
            "String invertida: asac\n"
          ]
        }
      ]
    }
  ]
}